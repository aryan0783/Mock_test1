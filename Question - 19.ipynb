{
 "cells": [
  {
   "cell_type": "markdown",
   "id": "8c4aad0d",
   "metadata": {},
   "source": [
    "### 19. Write a function called ‘calculate_mean’ that takes a list of numbers as input and returns the mean (average) of the numbers. The function should calculate the mean using the sum of the numbers divided by the total count."
   ]
  },
  {
   "cell_type": "code",
   "execution_count": 7,
   "id": "f7491a29",
   "metadata": {},
   "outputs": [],
   "source": [
    "import logging\n",
    "\n",
    "logging.basicConfig(filename='question19',level=logging.INFO,format='%(asctime)s %(name)s %(levelname)s %(message)s')"
   ]
  },
  {
   "cell_type": "code",
   "execution_count": 8,
   "id": "fb23bb74",
   "metadata": {},
   "outputs": [],
   "source": [
    "def calculate_mean(list_):\n",
    "    try:\n",
    "        logging.info(\"calculate_mean function has been executed!\")\n",
    "        count=0\n",
    "        sum_of_list = 0\n",
    "        for i in list_:\n",
    "            count+=1\n",
    "            sum_of_list+=i\n",
    "        logging.info('calculate_mean function has successfully executed!')\n",
    "        return f'Mean of the {list_} is {sum_of_list/count}'\n",
    "    except Exception as e:\n",
    "        logging.error(f'Error occured in the calculate_mean function : {e}')"
   ]
  },
  {
   "cell_type": "code",
   "execution_count": 9,
   "id": "db668843",
   "metadata": {},
   "outputs": [
    {
     "data": {
      "text/plain": [
       "'Mean of the [10, 15, 20, 25, 30] is 20.0'"
      ]
     },
     "execution_count": 9,
     "metadata": {},
     "output_type": "execute_result"
    }
   ],
   "source": [
    "calculate_mean([10,15,20,25,30])"
   ]
  },
  {
   "cell_type": "code",
   "execution_count": 10,
   "id": "59a3a221",
   "metadata": {},
   "outputs": [
    {
     "data": {
      "text/plain": [
       "'Mean of the [23, 34, 45, 56, 687, 78, 9] is 133.14285714285714'"
      ]
     },
     "execution_count": 10,
     "metadata": {},
     "output_type": "execute_result"
    }
   ],
   "source": [
    "calculate_mean([23,34,45,56,687,78,9])"
   ]
  }
 ],
 "metadata": {
  "kernelspec": {
   "display_name": "Python 3",
   "language": "python",
   "name": "python3"
  },
  "language_info": {
   "codemirror_mode": {
    "name": "ipython",
    "version": 3
   },
   "file_extension": ".py",
   "mimetype": "text/x-python",
   "name": "python",
   "nbconvert_exporter": "python",
   "pygments_lexer": "ipython3",
   "version": "3.8.8"
  },
  "varInspector": {
   "cols": {
    "lenName": 16,
    "lenType": 16,
    "lenVar": 40
   },
   "kernels_config": {
    "python": {
     "delete_cmd_postfix": "",
     "delete_cmd_prefix": "del ",
     "library": "var_list.py",
     "varRefreshCmd": "print(var_dic_list())"
    },
    "r": {
     "delete_cmd_postfix": ") ",
     "delete_cmd_prefix": "rm(",
     "library": "var_list.r",
     "varRefreshCmd": "cat(var_dic_list()) "
    }
   },
   "types_to_exclude": [
    "module",
    "function",
    "builtin_function_or_method",
    "instance",
    "_Feature"
   ],
   "window_display": false
  }
 },
 "nbformat": 4,
 "nbformat_minor": 5
}
