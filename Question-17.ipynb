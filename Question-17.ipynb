{
 "cells": [
  {
   "cell_type": "markdown",
   "id": "439570ba",
   "metadata": {},
   "source": [
    "### 17. Write a function that takes a list of numbers as input and returns a new list containing only the even numbers from the input list. Use list comprehension to solve this problem."
   ]
  },
  {
   "cell_type": "code",
   "execution_count": 2,
   "id": "cc431723",
   "metadata": {},
   "outputs": [],
   "source": [
    "import logging\n",
    "\n",
    "logging.basicConfig(filename='question17',level=logging.INFO,format='%(asctime)s %(name)s %(levelname)s %(message)s')"
   ]
  },
  {
   "cell_type": "code",
   "execution_count": 6,
   "id": "286501d8",
   "metadata": {},
   "outputs": [],
   "source": [
    "def even_num(a):\n",
    "    try:\n",
    "        logging.info(\"Function even_num has been called!\")\n",
    "        if type(a)==list:\n",
    "            result = [i for i in a if i%2==0]\n",
    "        else:\n",
    "            result = \"Please give list datatype!\"\n",
    "        logging.info(\"Function even_num has been successfully executed!\")\n",
    "        return result\n",
    "    except Exception as e:\n",
    "        logging.error(f'Error occured in the even_num function : {e}');"
   ]
  },
  {
   "cell_type": "code",
   "execution_count": 7,
   "id": "6a617ff2",
   "metadata": {},
   "outputs": [
    {
     "name": "stdout",
     "output_type": "stream",
     "text": [
      "[2, 4, 6, 8]\n"
     ]
    }
   ],
   "source": [
    "print(even_num([1,2,3,4,5,6,7,8,9]))"
   ]
  }
 ],
 "metadata": {
  "kernelspec": {
   "display_name": "Python 3",
   "language": "python",
   "name": "python3"
  },
  "language_info": {
   "codemirror_mode": {
    "name": "ipython",
    "version": 3
   },
   "file_extension": ".py",
   "mimetype": "text/x-python",
   "name": "python",
   "nbconvert_exporter": "python",
   "pygments_lexer": "ipython3",
   "version": "3.8.8"
  },
  "varInspector": {
   "cols": {
    "lenName": 16,
    "lenType": 16,
    "lenVar": 40
   },
   "kernels_config": {
    "python": {
     "delete_cmd_postfix": "",
     "delete_cmd_prefix": "del ",
     "library": "var_list.py",
     "varRefreshCmd": "print(var_dic_list())"
    },
    "r": {
     "delete_cmd_postfix": ") ",
     "delete_cmd_prefix": "rm(",
     "library": "var_list.r",
     "varRefreshCmd": "cat(var_dic_list()) "
    }
   },
   "types_to_exclude": [
    "module",
    "function",
    "builtin_function_or_method",
    "instance",
    "_Feature"
   ],
   "window_display": false
  }
 },
 "nbformat": 4,
 "nbformat_minor": 5
}
