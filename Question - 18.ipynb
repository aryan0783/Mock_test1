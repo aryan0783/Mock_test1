{
 "cells": [
  {
   "cell_type": "markdown",
   "id": "0195eb4e",
   "metadata": {},
   "source": [
    "### 18. Implement a decorator function called ‘timer’ that measures the execution time of a function. The ‘timer’ decorator should print the time taken by the decorated function to execute. Use the ‘time’ module in Python to calculate the execution time."
   ]
  },
  {
   "cell_type": "code",
   "execution_count": 18,
   "id": "e63eeaad",
   "metadata": {},
   "outputs": [],
   "source": [
    "import logging\n",
    "\n",
    "logging.basicConfig(filename='question18',level=logging.INFO,format='%(asctime)s %(name)s %(levelname)s %(message)s')"
   ]
  },
  {
   "cell_type": "code",
   "execution_count": 19,
   "id": "625ba1d4",
   "metadata": {},
   "outputs": [
    {
     "name": "stdout",
     "output_type": "stream",
     "text": [
      "The time of execution of number_range function is 1.5025138854980469 ms\n"
     ]
    }
   ],
   "source": [
    "import time\n",
    "\n",
    "# decorator method :\n",
    "def timer(a):\n",
    "    logging.info(\"timer function has been called!\")\n",
    "    try:\n",
    "        def inner():\n",
    "            try:\n",
    "                logging.info(\"Sub function inner has been called!\")\n",
    "                start = time.time()\n",
    "\n",
    "                a()\n",
    "\n",
    "                end = time.time()\n",
    "\n",
    "                print(f'The time of execution of {a.__name__} function is {(end-start)*10**3} ms')\n",
    "                logging.info('Sub function inner has been successfully executed!')\n",
    "            except Exception as e:\n",
    "                logging.error(f'Error occured in the sub function inner : {e}')\n",
    "        logging.info(\"timer function has been successfully executed!\")\n",
    "        return inner\n",
    "    except Exception as e:\n",
    "        logging.error(f'Error occured in the timer function : {e}')\n",
    "\n",
    "\n",
    "def number_range():\n",
    "    try:\n",
    "        logging.info('number_range function has been called!')\n",
    "        list_ = []\n",
    "        a = 0\n",
    "        for i in range(1000):\n",
    "            list_.append(a)\n",
    "            a += (i**100)\n",
    "        logging.info('number_range function has been successfully executed!')\n",
    "        return list_\n",
    "    except Exception as e:\n",
    "        logging.error(f'Error occured in the number_range function : {e}')\n",
    "    \n",
    "time1 = timer(number_range)\n",
    "time1()"
   ]
  }
 ],
 "metadata": {
  "kernelspec": {
   "display_name": "Python 3",
   "language": "python",
   "name": "python3"
  },
  "language_info": {
   "codemirror_mode": {
    "name": "ipython",
    "version": 3
   },
   "file_extension": ".py",
   "mimetype": "text/x-python",
   "name": "python",
   "nbconvert_exporter": "python",
   "pygments_lexer": "ipython3",
   "version": "3.8.8"
  },
  "varInspector": {
   "cols": {
    "lenName": 16,
    "lenType": 16,
    "lenVar": 40
   },
   "kernels_config": {
    "python": {
     "delete_cmd_postfix": "",
     "delete_cmd_prefix": "del ",
     "library": "var_list.py",
     "varRefreshCmd": "print(var_dic_list())"
    },
    "r": {
     "delete_cmd_postfix": ") ",
     "delete_cmd_prefix": "rm(",
     "library": "var_list.r",
     "varRefreshCmd": "cat(var_dic_list()) "
    }
   },
   "types_to_exclude": [
    "module",
    "function",
    "builtin_function_or_method",
    "instance",
    "_Feature"
   ],
   "window_display": false
  }
 },
 "nbformat": 4,
 "nbformat_minor": 5
}
